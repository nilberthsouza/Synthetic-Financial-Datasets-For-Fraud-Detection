{
  "nbformat": 4,
  "nbformat_minor": 0,
  "metadata": {
    "colab": {
      "name": "Untitled11.ipynb",
      "provenance": [],
      "mount_file_id": "https://github.com/nilberthsouza/Synthetic-Financial-Datasets-For-Fraud-Detection/blob/master/edaTheseAndModel.ipynb",
      "authorship_tag": "ABX9TyPV8SQVX1GK7Hf/621Nznrr",
      "include_colab_link": true
    },
    "kernelspec": {
      "name": "python3",
      "display_name": "Python 3"
    }
  },
  "cells": [
    {
      "cell_type": "markdown",
      "metadata": {
        "id": "view-in-github",
        "colab_type": "text"
      },
      "source": [
        "<a href=\"https://colab.research.google.com/github/nilberthsouza/Synthetic-Financial-Datasets-For-Fraud-Detection/blob/master/edaTheseAndModel.ipynb\" target=\"_parent\"><img src=\"https://colab.research.google.com/assets/colab-badge.svg\" alt=\"Open In Colab\"/></a>"
      ]
    },
    {
      "cell_type": "code",
      "metadata": {
        "id": "98uNsqqb-Iu0",
        "colab_type": "code",
        "outputId": "fd3d1c14-b2ae-40f2-ab8d-0146461a313a",
        "colab": {
          "base_uri": "https://localhost:8080/",
          "height": 326
        }
      },
      "source": [
        "\n",
        "import numpy as np # linear algebra\n",
        "import pandas as pd # data processing, CSV file I/O (e.g. pd.read_csv)\n",
        "import matplotlib.pyplot as plt\n",
        "import seaborn as sns\n",
        "%matplotlib inline\n",
        "\n",
        "from sklearn.model_selection import train_test_split\n",
        "from sklearn.linear_model import LogisticRegression\n",
        "\n",
        "from sklearn.metrics import accuracy_score, classification_report\n",
        "\n",
        "#!pip install --upgrade pandas\n",
        "!pip install category_encoders\n",
        "from category_encoders.one_hot import OneHotEncoder"
      ],
      "execution_count": 2,
      "outputs": [
        {
          "output_type": "stream",
          "text": [
            "/usr/local/lib/python3.6/dist-packages/statsmodels/tools/_testing.py:19: FutureWarning: pandas.util.testing is deprecated. Use the functions in the public API at pandas.testing instead.\n",
            "  import pandas.util.testing as tm\n"
          ],
          "name": "stderr"
        },
        {
          "output_type": "stream",
          "text": [
            "Collecting category_encoders\n",
            "\u001b[?25l  Downloading https://files.pythonhosted.org/packages/a0/52/c54191ad3782de633ea3d6ee3bb2837bda0cf3bc97644bb6375cf14150a0/category_encoders-2.1.0-py2.py3-none-any.whl (100kB)\n",
            "\u001b[K     |████████████████████████████████| 102kB 2.3MB/s \n",
            "\u001b[?25hRequirement already satisfied: scikit-learn>=0.20.0 in /usr/local/lib/python3.6/dist-packages (from category_encoders) (0.22.2.post1)\n",
            "Requirement already satisfied: numpy>=1.11.3 in /usr/local/lib/python3.6/dist-packages (from category_encoders) (1.18.3)\n",
            "Requirement already satisfied: patsy>=0.4.1 in /usr/local/lib/python3.6/dist-packages (from category_encoders) (0.5.1)\n",
            "Requirement already satisfied: pandas>=0.21.1 in /usr/local/lib/python3.6/dist-packages (from category_encoders) (1.0.3)\n",
            "Requirement already satisfied: scipy>=0.19.0 in /usr/local/lib/python3.6/dist-packages (from category_encoders) (1.4.1)\n",
            "Requirement already satisfied: statsmodels>=0.6.1 in /usr/local/lib/python3.6/dist-packages (from category_encoders) (0.10.2)\n",
            "Requirement already satisfied: joblib>=0.11 in /usr/local/lib/python3.6/dist-packages (from scikit-learn>=0.20.0->category_encoders) (0.14.1)\n",
            "Requirement already satisfied: six in /usr/local/lib/python3.6/dist-packages (from patsy>=0.4.1->category_encoders) (1.12.0)\n",
            "Requirement already satisfied: python-dateutil>=2.6.1 in /usr/local/lib/python3.6/dist-packages (from pandas>=0.21.1->category_encoders) (2.8.1)\n",
            "Requirement already satisfied: pytz>=2017.2 in /usr/local/lib/python3.6/dist-packages (from pandas>=0.21.1->category_encoders) (2018.9)\n",
            "Installing collected packages: category-encoders\n",
            "Successfully installed category-encoders-2.1.0\n"
          ],
          "name": "stdout"
        }
      ]
    },
    {
      "cell_type": "code",
      "metadata": {
        "id": "ZcvAxZ_NGG8z",
        "colab_type": "code",
        "outputId": "a34e006a-325b-490d-996d-7175fff39c6e",
        "colab": {
          "base_uri": "https://localhost:8080/",
          "height": 224
        }
      },
      "source": [
        "df = pd.read_csv(\"drive/My Drive/Colab Notebooks/synt.csv\")\n",
        "df.tail()"
      ],
      "execution_count": 3,
      "outputs": [
        {
          "output_type": "execute_result",
          "data": {
            "text/html": [
              "<div>\n",
              "<style scoped>\n",
              "    .dataframe tbody tr th:only-of-type {\n",
              "        vertical-align: middle;\n",
              "    }\n",
              "\n",
              "    .dataframe tbody tr th {\n",
              "        vertical-align: top;\n",
              "    }\n",
              "\n",
              "    .dataframe thead th {\n",
              "        text-align: right;\n",
              "    }\n",
              "</style>\n",
              "<table border=\"1\" class=\"dataframe\">\n",
              "  <thead>\n",
              "    <tr style=\"text-align: right;\">\n",
              "      <th></th>\n",
              "      <th>step</th>\n",
              "      <th>type</th>\n",
              "      <th>amount</th>\n",
              "      <th>nameOrig</th>\n",
              "      <th>oldbalanceOrg</th>\n",
              "      <th>newbalanceOrig</th>\n",
              "      <th>nameDest</th>\n",
              "      <th>oldbalanceDest</th>\n",
              "      <th>newbalanceDest</th>\n",
              "      <th>isFraud</th>\n",
              "      <th>isFlaggedFraud</th>\n",
              "    </tr>\n",
              "  </thead>\n",
              "  <tbody>\n",
              "    <tr>\n",
              "      <th>6362615</th>\n",
              "      <td>743</td>\n",
              "      <td>CASH_OUT</td>\n",
              "      <td>339682.13</td>\n",
              "      <td>C786484425</td>\n",
              "      <td>339682.13</td>\n",
              "      <td>0.0</td>\n",
              "      <td>C776919290</td>\n",
              "      <td>0.00</td>\n",
              "      <td>339682.13</td>\n",
              "      <td>1</td>\n",
              "      <td>0</td>\n",
              "    </tr>\n",
              "    <tr>\n",
              "      <th>6362616</th>\n",
              "      <td>743</td>\n",
              "      <td>TRANSFER</td>\n",
              "      <td>6311409.28</td>\n",
              "      <td>C1529008245</td>\n",
              "      <td>6311409.28</td>\n",
              "      <td>0.0</td>\n",
              "      <td>C1881841831</td>\n",
              "      <td>0.00</td>\n",
              "      <td>0.00</td>\n",
              "      <td>1</td>\n",
              "      <td>0</td>\n",
              "    </tr>\n",
              "    <tr>\n",
              "      <th>6362617</th>\n",
              "      <td>743</td>\n",
              "      <td>CASH_OUT</td>\n",
              "      <td>6311409.28</td>\n",
              "      <td>C1162922333</td>\n",
              "      <td>6311409.28</td>\n",
              "      <td>0.0</td>\n",
              "      <td>C1365125890</td>\n",
              "      <td>68488.84</td>\n",
              "      <td>6379898.11</td>\n",
              "      <td>1</td>\n",
              "      <td>0</td>\n",
              "    </tr>\n",
              "    <tr>\n",
              "      <th>6362618</th>\n",
              "      <td>743</td>\n",
              "      <td>TRANSFER</td>\n",
              "      <td>850002.52</td>\n",
              "      <td>C1685995037</td>\n",
              "      <td>850002.52</td>\n",
              "      <td>0.0</td>\n",
              "      <td>C2080388513</td>\n",
              "      <td>0.00</td>\n",
              "      <td>0.00</td>\n",
              "      <td>1</td>\n",
              "      <td>0</td>\n",
              "    </tr>\n",
              "    <tr>\n",
              "      <th>6362619</th>\n",
              "      <td>743</td>\n",
              "      <td>CASH_OUT</td>\n",
              "      <td>850002.52</td>\n",
              "      <td>C1280323807</td>\n",
              "      <td>850002.52</td>\n",
              "      <td>0.0</td>\n",
              "      <td>C873221189</td>\n",
              "      <td>6510099.11</td>\n",
              "      <td>7360101.63</td>\n",
              "      <td>1</td>\n",
              "      <td>0</td>\n",
              "    </tr>\n",
              "  </tbody>\n",
              "</table>\n",
              "</div>"
            ],
            "text/plain": [
              "         step      type      amount  ... newbalanceDest  isFraud  isFlaggedFraud\n",
              "6362615   743  CASH_OUT   339682.13  ...      339682.13        1               0\n",
              "6362616   743  TRANSFER  6311409.28  ...           0.00        1               0\n",
              "6362617   743  CASH_OUT  6311409.28  ...     6379898.11        1               0\n",
              "6362618   743  TRANSFER   850002.52  ...           0.00        1               0\n",
              "6362619   743  CASH_OUT   850002.52  ...     7360101.63        1               0\n",
              "\n",
              "[5 rows x 11 columns]"
            ]
          },
          "metadata": {
            "tags": []
          },
          "execution_count": 3
        }
      ]
    },
    {
      "cell_type": "code",
      "metadata": {
        "id": "qC4yLeaomJD6",
        "colab_type": "code",
        "colab": {
          "base_uri": "https://localhost:8080/",
          "height": 34
        },
        "outputId": "8314d2f5-7c58-4951-b4ac-f7306c535395"
      },
      "source": [
        ""
      ],
      "execution_count": 14,
      "outputs": [
        {
          "output_type": "execute_result",
          "data": {
            "text/plain": [
              "6362620"
            ]
          },
          "metadata": {
            "tags": []
          },
          "execution_count": 14
        }
      ]
    },
    {
      "cell_type": "code",
      "metadata": {
        "id": "bysC8CCPkVbt",
        "colab_type": "code",
        "colab": {}
      },
      "source": [
        "cashoutOcurrency  = df['type'][df['type'] == 'CASH_OUT'].value_counts()/df.shape[0]\n",
        "trasnferOcurrency = df['type'][df['type'] == 'TRANSFER'].value_counts()/df.shape[0]\n",
        "cashinOcurrency   = df['type'][df['type'] == 'CASH_IN'].value_counts()/df.shape[0]\n",
        "debitOcurrency    = df['type'][df['type'] == 'DEBIT'].value_counts()/df.shape[0]\n"
      ],
      "execution_count": 0,
      "outputs": []
    },
    {
      "cell_type": "code",
      "metadata": {
        "id": "ubbn74Jko1Z5",
        "colab_type": "code",
        "colab": {
          "base_uri": "https://localhost:8080/",
          "height": 221
        },
        "outputId": "ba56b07e-3597-4121-efc9-145f535c88f7"
      },
      "source": [
        "df['type'].unique"
      ],
      "execution_count": 26,
      "outputs": [
        {
          "output_type": "execute_result",
          "data": {
            "text/plain": [
              "<bound method Series.unique of 0           PAYMENT\n",
              "1           PAYMENT\n",
              "2          TRANSFER\n",
              "3          CASH_OUT\n",
              "4           PAYMENT\n",
              "             ...   \n",
              "6362615    CASH_OUT\n",
              "6362616    TRANSFER\n",
              "6362617    CASH_OUT\n",
              "6362618    TRANSFER\n",
              "6362619    CASH_OUT\n",
              "Name: type, Length: 6362620, dtype: object>"
            ]
          },
          "metadata": {
            "tags": []
          },
          "execution_count": 26
        }
      ]
    },
    {
      "cell_type": "code",
      "metadata": {
        "id": "MR7SdlG9Yl0G",
        "colab_type": "code",
        "outputId": "d5dc6094-fd9c-4752-fc7d-8b12bd7447c9",
        "colab": {
          "base_uri": "https://localhost:8080/",
          "height": 34
        }
      },
      "source": [
        "missing = df.isnull().sum()\n",
        "missing = missing[missing > 1]\n",
        "missing = missing.sort_values()\n",
        "missing"
      ],
      "execution_count": 18,
      "outputs": [
        {
          "output_type": "execute_result",
          "data": {
            "text/plain": [
              "Series([], dtype: int64)"
            ]
          },
          "metadata": {
            "tags": []
          },
          "execution_count": 18
        }
      ]
    },
    {
      "cell_type": "code",
      "metadata": {
        "id": "wnCTzOJrHbdI",
        "colab_type": "code",
        "outputId": "bdff6e54-6073-4ad4-9f52-7a81f51e4fa8",
        "colab": {
          "base_uri": "https://localhost:8080/",
          "height": 255
        }
      },
      "source": [
        "df['varoldbalanceOrg'] = df.amount/df['oldbalanceOrg']\n",
        "df['varoldbalanceDest'] = df.amount/df['oldbalanceDest']\n",
        "\n",
        "\n",
        "df.varoldbalanceOrg.fillna(1,inplace=True)\n",
        "df.varoldbalanceDest.fillna(1,inplace=True)\n",
        "\n",
        "#certifica que celulas não fiquem com valor inf \n",
        "df.varoldbalanceOrg = df.varoldbalanceOrg.map(lambda a: 1 if a == np.inf else a)\n",
        "df.varoldbalanceDest = df.varoldbalanceDest.map(lambda a: 1 if a == np.inf else a)\n",
        "\n",
        "df.dropna(inplace=True)\n",
        "df.isnull().sum()"
      ],
      "execution_count": 19,
      "outputs": [
        {
          "output_type": "execute_result",
          "data": {
            "text/plain": [
              "step                 0\n",
              "type                 0\n",
              "amount               0\n",
              "nameOrig             0\n",
              "oldbalanceOrg        0\n",
              "newbalanceOrig       0\n",
              "nameDest             0\n",
              "oldbalanceDest       0\n",
              "newbalanceDest       0\n",
              "isFraud              0\n",
              "isFlaggedFraud       0\n",
              "varoldbalanceOrg     0\n",
              "varoldbalanceDest    0\n",
              "dtype: int64"
            ]
          },
          "metadata": {
            "tags": []
          },
          "execution_count": 19
        }
      ]
    },
    {
      "cell_type": "code",
      "metadata": {
        "id": "KrmMOFmsodS1",
        "colab_type": "code",
        "colab": {
          "base_uri": "https://localhost:8080/",
          "height": 34
        },
        "outputId": "64ea749a-fd45-4229-b330-03d77d64588b"
      },
      "source": [
        "df.loc[df['type'] == 'CASH_OUT'].shape[0]"
      ],
      "execution_count": 24,
      "outputs": [
        {
          "output_type": "execute_result",
          "data": {
            "text/plain": [
              "2237500"
            ]
          },
          "metadata": {
            "tags": []
          },
          "execution_count": 24
        }
      ]
    },
    {
      "cell_type": "code",
      "metadata": {
        "id": "O2gGasPNm7U5",
        "colab_type": "code",
        "colab": {
          "base_uri": "https://localhost:8080/",
          "height": 248
        },
        "outputId": "f4b102f9-81b6-4a1e-c02c-c5355daa5b1f"
      },
      "source": [
        "cashoutOcurrency  = df.loc[df['type'] == 'CASH_OUT'].shape[0]/df.shape[0]\n",
        "trasnferOcurrency = df.loc[df['type'] == 'TRANSFER'].shape[0]/df.shape[0]\n",
        "cashinOcurrency   = df.loc[df['type'] == 'CASH_IN'].shape[0]/df.shape[0]\n",
        "debitOcurrency    = df.loc[df['type'] == 'DEBIT'].shape[0]/df.shape[0]\n",
        "paymentOcurrency    = df.loc[df['type'] == 'PAYMENT'].shape[0]/df.shape[0]\n",
        "\n",
        "labels = 'CASH_OUT', 'TRANSFER', 'CASH_IN', 'DEBIT','PAYMENT'\n",
        "sizes = [cashoutOcurrency, trasnferOcurrency,cashinOcurrency, debitOcurrency,paymentOcurrency]\n",
        "colors = ['yellowgreen', 'gold', 'lightskyblue', 'lightcoral','red']\n",
        "\n",
        "explode = (0, 0, 0, 0,0)  # explode a slice if required\n",
        "\n",
        "plt.pie(sizes, explode=explode, labels=labels, colors=colors,\n",
        "        autopct='%1.1f%%', shadow=True)\n",
        "        \n",
        "#desenha um circulo no meio do piechart\n",
        "centre_circle = plt.Circle((0,0),0.75,color='black', fc='white',linewidth=1.25)\n",
        "fig = plt.gcf()\n",
        "fig.gca().add_artist(centre_circle)\n",
        "\n",
        "\n",
        "plt.axis('equal')\n",
        "plt.show()  "
      ],
      "execution_count": 29,
      "outputs": [
        {
          "output_type": "display_data",
          "data": {
            "image/png": "[encoded data removed]",
            "text/plain": [
              "<Figure size 432x288 with 1 Axes>"
            ]
          },
          "metadata": {
            "tags": []
          }
        }
      ]
    },
    {
      "cell_type": "code",
      "metadata": {
        "id": "rB6zsEufKd0Y",
        "colab_type": "code",
        "colab": {}
      },
      "source": [
        "\n",
        "df.drop(['step','nameOrig','nameDest'],axis=1,inplace=True)"
      ],
      "execution_count": 0,
      "outputs": []
    },
    {
      "cell_type": "code",
      "metadata": {
        "id": "SU0CNamPKxYI",
        "colab_type": "code",
        "colab": {}
      },
      "source": [
        "enc = OneHotEncoder(cols=['type'], use_cat_names=True)\n",
        "enc.fit(df)\n",
        "df = enc.transform(df)\n"
      ],
      "execution_count": 0,
      "outputs": []
    },
    {
      "cell_type": "code",
      "metadata": {
        "id": "DU92tv3s66Pn",
        "colab_type": "code",
        "outputId": "9ebd7c28-865d-4a4d-eedd-a0eee905d7f7",
        "colab": {
          "base_uri": "https://localhost:8080/",
          "height": 224
        }
      },
      "source": [
        "df.head()"
      ],
      "execution_count": 0,
      "outputs": [
        {
          "output_type": "execute_result",
          "data": {
            "text/html": [
              "<div>\n",
              "<style scoped>\n",
              "    .dataframe tbody tr th:only-of-type {\n",
              "        vertical-align: middle;\n",
              "    }\n",
              "\n",
              "    .dataframe tbody tr th {\n",
              "        vertical-align: top;\n",
              "    }\n",
              "\n",
              "    .dataframe thead th {\n",
              "        text-align: right;\n",
              "    }\n",
              "</style>\n",
              "<table border=\"1\" class=\"dataframe\">\n",
              "  <thead>\n",
              "    <tr style=\"text-align: right;\">\n",
              "      <th></th>\n",
              "      <th>type_PAYMENT</th>\n",
              "      <th>type_TRANSFER</th>\n",
              "      <th>type_CASH_OUT</th>\n",
              "      <th>type_DEBIT</th>\n",
              "      <th>type_CASH_IN</th>\n",
              "      <th>amount</th>\n",
              "      <th>oldbalanceOrg</th>\n",
              "      <th>newbalanceOrig</th>\n",
              "      <th>oldbalanceDest</th>\n",
              "      <th>newbalanceDest</th>\n",
              "      <th>isFraud</th>\n",
              "      <th>isFlaggedFraud</th>\n",
              "      <th>varoldbalanceOrg</th>\n",
              "      <th>varoldbalanceDest</th>\n",
              "      <th>maiormenor</th>\n",
              "    </tr>\n",
              "  </thead>\n",
              "  <tbody>\n",
              "    <tr>\n",
              "      <th>0</th>\n",
              "      <td>1</td>\n",
              "      <td>0</td>\n",
              "      <td>0</td>\n",
              "      <td>0</td>\n",
              "      <td>0</td>\n",
              "      <td>9839.64</td>\n",
              "      <td>170136.0</td>\n",
              "      <td>160296.36</td>\n",
              "      <td>0.0</td>\n",
              "      <td>0.0</td>\n",
              "      <td>0</td>\n",
              "      <td>0</td>\n",
              "      <td>0.057834</td>\n",
              "      <td>1.000000</td>\n",
              "      <td>1</td>\n",
              "    </tr>\n",
              "    <tr>\n",
              "      <th>1</th>\n",
              "      <td>1</td>\n",
              "      <td>0</td>\n",
              "      <td>0</td>\n",
              "      <td>0</td>\n",
              "      <td>0</td>\n",
              "      <td>1864.28</td>\n",
              "      <td>21249.0</td>\n",
              "      <td>19384.72</td>\n",
              "      <td>0.0</td>\n",
              "      <td>0.0</td>\n",
              "      <td>0</td>\n",
              "      <td>0</td>\n",
              "      <td>0.087735</td>\n",
              "      <td>1.000000</td>\n",
              "      <td>1</td>\n",
              "    </tr>\n",
              "    <tr>\n",
              "      <th>2</th>\n",
              "      <td>0</td>\n",
              "      <td>1</td>\n",
              "      <td>0</td>\n",
              "      <td>0</td>\n",
              "      <td>0</td>\n",
              "      <td>181.00</td>\n",
              "      <td>181.0</td>\n",
              "      <td>0.00</td>\n",
              "      <td>0.0</td>\n",
              "      <td>0.0</td>\n",
              "      <td>1</td>\n",
              "      <td>0</td>\n",
              "      <td>1.000000</td>\n",
              "      <td>1.000000</td>\n",
              "      <td>1</td>\n",
              "    </tr>\n",
              "    <tr>\n",
              "      <th>3</th>\n",
              "      <td>0</td>\n",
              "      <td>0</td>\n",
              "      <td>1</td>\n",
              "      <td>0</td>\n",
              "      <td>0</td>\n",
              "      <td>181.00</td>\n",
              "      <td>181.0</td>\n",
              "      <td>0.00</td>\n",
              "      <td>21182.0</td>\n",
              "      <td>0.0</td>\n",
              "      <td>1</td>\n",
              "      <td>0</td>\n",
              "      <td>1.000000</td>\n",
              "      <td>0.008545</td>\n",
              "      <td>1</td>\n",
              "    </tr>\n",
              "    <tr>\n",
              "      <th>4</th>\n",
              "      <td>1</td>\n",
              "      <td>0</td>\n",
              "      <td>0</td>\n",
              "      <td>0</td>\n",
              "      <td>0</td>\n",
              "      <td>11668.14</td>\n",
              "      <td>41554.0</td>\n",
              "      <td>29885.86</td>\n",
              "      <td>0.0</td>\n",
              "      <td>0.0</td>\n",
              "      <td>0</td>\n",
              "      <td>0</td>\n",
              "      <td>0.280795</td>\n",
              "      <td>1.000000</td>\n",
              "      <td>1</td>\n",
              "    </tr>\n",
              "  </tbody>\n",
              "</table>\n",
              "</div>"
            ],
            "text/plain": [
              "   type_PAYMENT  type_TRANSFER  ...  varoldbalanceDest  maiormenor\n",
              "0             1              0  ...           1.000000           1\n",
              "1             1              0  ...           1.000000           1\n",
              "2             0              1  ...           1.000000           1\n",
              "3             0              0  ...           0.008545           1\n",
              "4             1              0  ...           1.000000           1\n",
              "\n",
              "[5 rows x 15 columns]"
            ]
          },
          "metadata": {
            "tags": []
          },
          "execution_count": 13
        }
      ]
    },
    {
      "cell_type": "code",
      "metadata": {
        "id": "932QUo537Z48",
        "colab_type": "code",
        "outputId": "14a261c5-5c7d-44a4-f141-3595ce98478a",
        "colab": {
          "base_uri": "https://localhost:8080/",
          "height": 34
        }
      },
      "source": [
        "df.shape[0]"
      ],
      "execution_count": 0,
      "outputs": [
        {
          "output_type": "execute_result",
          "data": {
            "text/plain": [
              "6362620"
            ]
          },
          "metadata": {
            "tags": []
          },
          "execution_count": 18
        }
      ]
    },
    {
      "cell_type": "code",
      "metadata": {
        "id": "OLgJkyXNIVtA",
        "colab_type": "code",
        "colab": {}
      },
      "source": [
        "import time\n",
        "start = time.time()\n",
        "\n",
        "df['maiormenor'] = 0\n",
        "maxminvalue = df.amount[df.isFraud == 1].max()\n",
        "minvalue = df.amount.min()\n",
        "\n",
        "\n",
        "\n",
        "for i in range(df.shape[0]):\n",
        "  if df.loc[i,'amount'] < (maxminvalue + minvalue):\n",
        "    df.loc[i,'maiormenor'] = 1\n",
        "  else:\n",
        "    df.loc[i,'maiormenor'] =0\n",
        "\n",
        "\n",
        "end = time.time()\n",
        "print(end-start)\n"
      ],
      "execution_count": 0,
      "outputs": []
    },
    {
      "cell_type": "code",
      "metadata": {
        "id": "fUQWXiuIK9oS",
        "colab_type": "code",
        "colab": {}
      },
      "source": [
        "df = df.sample(frac=1)\n",
        "df = df.sample(frac=1)\n",
        "df = df.sample(frac=1)\n",
        "df.reset_index(inplace=True)\n",
        "X_train, X_test , y_train, y_test = train_test_split(df.drop(['isFraud'],axis=1),df['isFraud'],test_size=0.3, random_state=0)\n",
        "\n",
        "print(len(X_train),len(X_test),len(y_train),len(y_test))"
      ],
      "execution_count": 0,
      "outputs": []
    },
    {
      "cell_type": "code",
      "metadata": {
        "id": "HJls5_UWIfbw",
        "colab_type": "code",
        "colab": {}
      },
      "source": [
        "df = df.sample(frac=1)\n",
        "df = df.sample(frac=1)\n",
        "df = df.sample(frac=1)\n",
        "df.reset_index(inplace=True)\n",
        "X_train, X_test , y_train, y_test = train_test_split(df.drop(['isFraud'],axis=1),df['isFraud'],test_size=0.3, random_state=0)\n",
        "\n",
        "print(len(X_train),len(X_test),len(y_train),len(y_test))\n",
        "\n"
      ],
      "execution_count": 0,
      "outputs": []
    },
    {
      "cell_type": "code",
      "metadata": {
        "id": "47tNmUVfIsEu",
        "colab_type": "code",
        "colab": {}
      },
      "source": [
        "plt.figure(figsize=(10,10))\n",
        "sns.heatmap(X_train.corr(), annot=True, cmap=\"Blues\")"
      ],
      "execution_count": 0,
      "outputs": []
    },
    {
      "cell_type": "code",
      "metadata": {
        "id": "xYp81FyKIutA",
        "colab_type": "code",
        "colab": {}
      },
      "source": [
        "X_train.hist(figsize=(10,8))"
      ],
      "execution_count": 0,
      "outputs": []
    },
    {
      "cell_type": "code",
      "metadata": {
        "id": "NczRYIudJCK-",
        "colab_type": "code",
        "colab": {}
      },
      "source": [
        "sns.scatterplot(x = train.oldbalanceDest,y=train.newbalanceDest,hue=df.isFraud)\n"
      ],
      "execution_count": 0,
      "outputs": []
    },
    {
      "cell_type": "code",
      "metadata": {
        "id": "q-uhMn5gJFLI",
        "colab_type": "code",
        "colab": {}
      },
      "source": [
        "sns.scatterplot(x=df['varoldbalanceOrg'],y=df['varoldbalanceDest'],hue=df.isFraud)"
      ],
      "execution_count": 0,
      "outputs": []
    },
    {
      "cell_type": "code",
      "metadata": {
        "id": "SJW2W4USQiyv",
        "colab_type": "code",
        "colab": {}
      },
      "source": [
        "\n",
        "model = LogisticRegression()\n",
        "model.fit(X_train,y_train)\n",
        "\n",
        "modelOnePredictions = model.predict(X_test)\n",
        "\n",
        "\n",
        "\n",
        "classification_report( y_test, modelOnePredictions)"
      ],
      "execution_count": 0,
      "outputs": []
    },
    {
      "cell_type": "code",
      "metadata": {
        "id": "bPSxBtXnIszC",
        "colab_type": "code",
        "colab": {}
      },
      "source": [
        "\n",
        "\n",
        "accuracy_score(y_test,modelOnePredictions)"
      ],
      "execution_count": 0,
      "outputs": []
    }
  ]
}